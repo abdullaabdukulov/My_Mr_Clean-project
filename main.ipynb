{
 "cells": [
  {
   "cell_type": "markdown",
   "id": "98641afc",
   "metadata": {
    "pycharm": {
     "name": "#%% md\n"
    }
   },
   "source": [
    "# Install librares"
   ]
  },
  {
   "cell_type": "code",
   "execution_count": 59,
   "id": "e5240e39",
   "metadata": {
    "pycharm": {
     "name": "#%%\n"
    }
   },
   "outputs": [
    {
     "name": "stdout",
     "output_type": "stream",
     "text": [
      "Requirement already satisfied: seaborn in ./venv/lib/python3.8/site-packages (0.11.2)\r\n",
      "Requirement already satisfied: pandas>=0.23 in ./venv/lib/python3.8/site-packages (from seaborn) (1.4.3)\r\n",
      "Requirement already satisfied: matplotlib>=2.2 in ./venv/lib/python3.8/site-packages (from seaborn) (3.5.2)\r\n",
      "Requirement already satisfied: numpy>=1.15 in ./venv/lib/python3.8/site-packages (from seaborn) (1.23.0)\r\n",
      "Requirement already satisfied: scipy>=1.0 in ./venv/lib/python3.8/site-packages (from seaborn) (1.8.1)\r\n",
      "Requirement already satisfied: packaging>=20.0 in ./venv/lib/python3.8/site-packages (from matplotlib>=2.2->seaborn) (21.3)\r\n",
      "Requirement already satisfied: cycler>=0.10 in ./venv/lib/python3.8/site-packages (from matplotlib>=2.2->seaborn) (0.11.0)\r\n",
      "Requirement already satisfied: python-dateutil>=2.7 in ./venv/lib/python3.8/site-packages (from matplotlib>=2.2->seaborn) (2.8.2)\r\n",
      "Requirement already satisfied: pyparsing>=2.2.1 in ./venv/lib/python3.8/site-packages (from matplotlib>=2.2->seaborn) (3.0.9)\r\n",
      "Requirement already satisfied: kiwisolver>=1.0.1 in ./venv/lib/python3.8/site-packages (from matplotlib>=2.2->seaborn) (1.4.3)\r\n",
      "Requirement already satisfied: fonttools>=4.22.0 in ./venv/lib/python3.8/site-packages (from matplotlib>=2.2->seaborn) (4.33.3)\r\n",
      "Requirement already satisfied: pillow>=6.2.0 in ./venv/lib/python3.8/site-packages (from matplotlib>=2.2->seaborn) (9.1.1)\r\n",
      "Requirement already satisfied: pytz>=2020.1 in ./venv/lib/python3.8/site-packages (from pandas>=0.23->seaborn) (2022.1)\r\n",
      "Requirement already satisfied: six>=1.5 in ./venv/lib/python3.8/site-packages (from python-dateutil>=2.7->matplotlib>=2.2->seaborn) (1.16.0)\r\n",
      "\u001B[33mWARNING: You are using pip version 21.3.1; however, version 22.1.2 is available.\r\n",
      "You should consider upgrading via the '/Users/student/PycharmProjects/Matplotlib_Tutorial/venv/bin/python -m pip install --upgrade pip' command.\u001B[0m\r\n"
     ]
    }
   ],
   "source": [
    "!pip install seaborn"
   ]
  },
  {
   "cell_type": "markdown",
   "id": "31d14df7",
   "metadata": {
    "pycharm": {
     "name": "#%% md\n"
    }
   },
   "source": [
    "# import librares"
   ]
  },
  {
   "cell_type": "code",
   "execution_count": 60,
   "id": "f9a7b092",
   "metadata": {
    "pycharm": {
     "name": "#%%\n"
    }
   },
   "outputs": [],
   "source": [
    "import requests\n",
    "from bs4 import BeautifulSoup as soup\n",
    "import matplotlib.pyplot as plt\n",
    "import pandas as pd\n",
    "import seaborn as sns"
   ]
  },
  {
   "cell_type": "markdown",
   "id": "4879a552",
   "metadata": {
    "pycharm": {
     "name": "#%% md\n"
    }
   },
   "source": [
    "# Get url"
   ]
  },
  {
   "cell_type": "code",
   "execution_count": 61,
   "id": "6afead32",
   "metadata": {
    "pycharm": {
     "name": "#%%\n"
    }
   },
   "outputs": [],
   "source": [
    "def get_content(article_name):\n",
    "    return requests.get(f\"https://en.wikipedia.org/wiki/{article_name}\").text"
   ]
  },
  {
   "cell_type": "code",
   "execution_count": 62,
   "id": "603d441b",
   "metadata": {
    "pycharm": {
     "name": "#%%\n"
    }
   },
   "outputs": [],
   "source": [
    "data = get_content(\"Ozone_layer\")\n",
    "# print(data)"
   ]
  },
  {
   "cell_type": "markdown",
   "id": "e85121fd",
   "metadata": {
    "pycharm": {
     "name": "#%% md\n"
    }
   },
   "source": [
    "# Clean Data"
   ]
  },
  {
   "cell_type": "code",
   "execution_count": 63,
   "id": "9db0f559",
   "metadata": {
    "pycharm": {
     "name": "#%%\n"
    }
   },
   "outputs": [],
   "source": [
    "def merge_contents(data):\n",
    "    content = ''\n",
    "    clean = soup(data,\"html.parser\")\n",
    "    for i in clean.find_all(\"p\"):\n",
    "        content += i.text.replace(\".\",\"\").replace(\",\",\"\").replace(\"[\",\"\").replace(\"]\",\"\").replace(\"(\",\"\").replace(\")\",\"\").replace(\"-\",\"\").replace('–','') + ' '\n",
    "    return content"
   ]
  },
  {
   "cell_type": "code",
   "execution_count": 64,
   "id": "9c67443b",
   "metadata": {
    "pycharm": {
     "name": "#%%\n"
    }
   },
   "outputs": [],
   "source": [
    "merge_content = merge_contents(data)\n",
    "# print(merge_content)"
   ]
  },
  {
   "cell_type": "markdown",
   "id": "678fbf4a",
   "metadata": {
    "pycharm": {
     "name": "#%% md\n"
    }
   },
   "source": [
    "# Tokenization"
   ]
  },
  {
   "cell_type": "code",
   "execution_count": 65,
   "id": "7bec9ce4",
   "metadata": {
    "pycharm": {
     "name": "#%%\n"
    }
   },
   "outputs": [],
   "source": [
    "def tokenize(content):\n",
    "    res = [i.lower() for i in content.split(\" \") if i.isalpha()]\n",
    "    return res"
   ]
  },
  {
   "cell_type": "code",
   "execution_count": 66,
   "id": "cb2a1494",
   "metadata": {
    "pycharm": {
     "name": "#%%\n"
    }
   },
   "outputs": [],
   "source": [
    "token = tokenize(merge_content)"
   ]
  },
  {
   "cell_type": "code",
   "execution_count": 67,
   "id": "03df70af",
   "metadata": {
    "pycharm": {
     "name": "#%%\n"
    }
   },
   "outputs": [],
   "source": [
    "stop_words = ['be', \"the\", \"a\", \"of\", \"to\", \"in\", \"about\", \"are\", \"from\" , \"is\", \n",
    "              \"and\", \"by\", \"that\", \"was\", \"as\", \"at\", \"about\", 'for' , 'it', 'on',\n",
    "              'has', 'uv', 'cfcs', 'this', 'with', 'these', 'have',\n",
    "              'or', 'an', 'were', 'which', 'can', ' into', 'because']"
   ]
  },
  {
   "cell_type": "markdown",
   "id": "5725c2e3",
   "metadata": {
    "pycharm": {
     "name": "#%% md\n"
    }
   },
   "source": [
    "# Filtering"
   ]
  },
  {
   "cell_type": "code",
   "execution_count": 68,
   "id": "d88a21b8",
   "metadata": {
    "pycharm": {
     "name": "#%%\n"
    }
   },
   "outputs": [],
   "source": [
    "def remove_stop_words(words, stop_words):\n",
    "  return [x for x in words if x not in stop_words]"
   ]
  },
  {
   "cell_type": "code",
   "execution_count": 69,
   "id": "e80f810a",
   "metadata": {
    "pycharm": {
     "name": "#%%\n"
    }
   },
   "outputs": [],
   "source": [
    "filtered_collection = remove_stop_words(token, stop_words)\n",
    "# print(filtered_collection)"
   ]
  },
  {
   "cell_type": "markdown",
   "id": "37361acf",
   "metadata": {
    "pycharm": {
     "name": "#%% md\n"
    }
   },
   "source": [
    "# Term Frequency"
   ]
  },
  {
   "cell_type": "code",
   "execution_count": 70,
   "id": "782269d4",
   "metadata": {
    "pycharm": {
     "name": "#%%\n"
    }
   },
   "outputs": [],
   "source": [
    "import operator\n",
    "def count_frequency(collection):\n",
    "    counter = {}\n",
    "    for letter in collection:\n",
    "        if letter not in counter:\n",
    "            counter[letter] = 0\n",
    "        counter[letter] += 1\n",
    "    slovar_sorted=sorted(counter.items(), key=operator.itemgetter(1), reverse=True)\n",
    "    return slovar_sorted"
   ]
  },
  {
   "cell_type": "code",
   "execution_count": 71,
   "id": "9e1cb0e4",
   "metadata": {
    "pycharm": {
     "name": "#%%\n"
    }
   },
   "outputs": [],
   "source": [
    "counts_word = count_frequency(filtered_collection)"
   ]
  },
  {
   "cell_type": "code",
   "execution_count": 72,
   "id": "4d1a4526",
   "metadata": {
    "pycharm": {
     "name": "#%%\n"
    }
   },
   "outputs": [],
   "source": [
    "# print(counts_word)"
   ]
  },
  {
   "cell_type": "markdown",
   "id": "7cf6ee70",
   "metadata": {
    "pycharm": {
     "name": "#%% md\n"
    }
   },
   "source": [
    "# Visualizing"
   ]
  },
  {
   "cell_type": "code",
   "execution_count": 73,
   "id": "28f5c7a8",
   "metadata": {
    "pycharm": {
     "name": "#%%\n"
    }
   },
   "outputs": [],
   "source": [
    "%matplotlib inline\n",
    "def print_most_frequent(frequencies, n):\n",
    "  df = pd.DataFrame.from_records(frequencies)\n",
    "  df.columns = ['Frequencies', 'Total Count']\n",
    "  df2 = df.head(n)\n",
    "  fig, ax = plt.subplots(figsize=(16, 12))\n",
    "  ax.set_facecolor(\"black\")\n",
    "  sns.set(style=\"whitegrid\")\n",
    "  sns.set_color_codes(\"muted\")\n",
    "  sns.barplot(x=\"Total Count\", y=\"Frequencies\", \n",
    "            data=df2).set(title='Most Common Tokens in the Ozone Layer article')"
   ]
  },
  {
   "cell_type": "code",
   "execution_count": 74,
   "id": "6b83c26b",
   "metadata": {
    "pycharm": {
     "name": "#%%\n"
    }
   },
   "outputs": [
    {
     "data": {
      "text/plain": "<Figure size 1152x864 with 1 Axes>",
      "image/png": "[encoded data removed]"
     },
     "metadata": {
      "needs_background": "light"
     },
     "output_type": "display_data"
    }
   ],
   "source": [
    "print_most_frequent(counts_word, 20)"
   ]
  },
  {
   "cell_type": "code",
   "execution_count": 74,
   "outputs": [],
   "source": [],
   "metadata": {
    "collapsed": false,
    "pycharm": {
     "name": "#%%\n"
    }
   }
  },
  {
   "cell_type": "code",
   "execution_count": null,
   "outputs": [],
   "source": [
    "\n"
   ],
   "metadata": {
    "collapsed": false,
    "pycharm": {
     "name": "#%%\n"
    }
   }
  }
 ],
 "metadata": {
  "kernelspec": {
   "display_name": "Python 3",
   "language": "python",
   "name": "python3"
  },
  "language_info": {
   "codemirror_mode": {
    "name": "ipython",
    "version": 3
   },
   "file_extension": ".py",
   "mimetype": "text/x-python",
   "name": "python",
   "nbconvert_exporter": "python",
   "pygments_lexer": "ipython3",
   "version": "3.6.7"
  }
 },
 "nbformat": 4,
 "nbformat_minor": 5
}